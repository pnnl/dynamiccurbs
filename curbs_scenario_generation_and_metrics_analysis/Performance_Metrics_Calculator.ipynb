{
 "cells": [
  {
   "cell_type": "markdown",
   "metadata": {},
   "source": [
    "# Better Curbs Project: Curb Performance Metric Calculator\n",
    "\n",
    "### This notebook can be used to generate Curb Productivity Index (CPIx) and Curb Accessibility (CAx) metrics for a single simulation run.\n",
    "\n",
    "#### Developed by Tom Maxner, University of Washington\n",
    "#### Last updated: 12/11/2022"
   ]
  },
  {
   "cell_type": "markdown",
   "metadata": {},
   "source": [
    "### The sequence of operations in this notebook are as follows:\n",
    "#### 1. Load script for .fzp (vehicle trajectory) file parsing tool, and modules for analyzing data;\n",
    "#### 2. Load and parse select .fzp file;\n",
    "#### 3. Preprocess and filter data;\n",
    "#### 4. Calculate curb performance metrics;\n",
    "        4.4. Curb Productivity for each blockface: calculated for goods and passengers, & for each vehicle type.\n",
    "        4.5. Curb Accessibility for each blockface: calculated in total, for goods and passengers, & for each vehicle type.\n",
    "#### 5. Calculate parking space occupancy;\n",
    "        Calculated for each space by vehicle type and averages for entire blockfaces.\n",
    "#### 6. Export processed data to .csv for further analysis.\n",
    "\n",
    "### NOTE: User must update directory and file names in Steps 2 and 6. It may also be necessary for users to update variables defined in Step 2 and space numbers in Steps 5 and 6 to match their own inputs."
   ]
  },
  {
   "cell_type": "markdown",
   "metadata": {},
   "source": [
    "## Step 1. Load script for .fzp file parsing tool, and modules for analyzing data."
   ]
  },
  {
   "cell_type": "code",
   "execution_count": 1,
   "metadata": {},
   "outputs": [
    {
     "data": {
      "text/html": [
       "\n",
       "<style>\n",
       "    div#notebook-container    { width: 95%; }\n",
       "    div#menubar-container     { width: 65%; }\n",
       "    div#maintoolbar-container { width: 99%; }\n",
       "</style>\n"
      ],
      "text/plain": [
       "<IPython.core.display.HTML object>"
      ]
     },
     "metadata": {},
     "output_type": "display_data"
    }
   ],
   "source": [
    "# Set display settings (optional)\n",
    "# cells will fill entire width of the browser\n",
    "from IPython.display import display, HTML\n",
    "\n",
    "display(HTML(data=\"\"\"\n",
    "<style>\n",
    "    div#notebook-container    { width: 95%; }\n",
    "    div#menubar-container     { width: 65%; }\n",
    "    div#maintoolbar-container { width: 99%; }\n",
    "</style>\n",
    "\"\"\"))\n",
    "\n",
    "#Tells Jupyter to reload custom classes from scratch everytime an import cell is run, if you edit a custom class\n",
    "#between imports Jupyter would otherwise need to be restarted completely. NOTE: old class objects in the \n",
    "#current namespace will cause errors at execution\n",
    "%load_ext autoreload\n",
    "%autoreload 2\n",
    "\n",
    "#switches matplotlib to show plots in the browser rather than opening a new window\n",
    "%matplotlib inline"
   ]
  },
  {
   "cell_type": "code",
   "execution_count": 2,
   "metadata": {},
   "outputs": [],
   "source": [
    "import numpy as np\n",
    "import pandas as pd\n",
    "import os\n",
    "import matplotlib.pyplot as plt\n",
    "\n",
    "#passive library that generates nicer looking plots\n",
    "import seaborn\n",
    "seaborn.set()"
   ]
  },
  {
   "cell_type": "code",
   "execution_count": 3,
   "metadata": {},
   "outputs": [],
   "source": [
    "def pandas_parse_fzp_vissim_vehicle_records(filename):\n",
    "    #this function parses a vehicle records fzp file and \n",
    "    #reads the data into a pandas dataframe\n",
    "    \n",
    "    #FZP file notes\n",
    "    #lines beginning with * are comments\n",
    "    #escape character \\ is not an escape character\n",
    "    #line beginning with $ is header\n",
    "    #data is ; delimited\n",
    "    #dataframe will come back with all strings as data\n",
    "\n",
    "    data = []\n",
    "    \n",
    "    with open(filename, 'r') as d:\n",
    "        for line in d:\n",
    "            if line[0] == \"*\":\n",
    "                pass\n",
    "            elif line[0:8] == \"$VEHICLE\": #column header doesn't precisely correspond to columns\n",
    "                header = line.replace(\"\\\\\",\"_\").strip().split(\";\") #VISSIM uses escape characters in places\n",
    "                header[0] = header[0].split(\":\")[1] #getting rid of garbage at start of column header\n",
    "            elif line[0] == \"$\":\n",
    "                pass\n",
    "            else:       \n",
    "                data.append(line.strip().split(\";\"))\n",
    "                \n",
    "    out_frame = pd.DataFrame(data)\n",
    "    out_frame = out_frame.drop(labels=0, axis=0) #ends up reading first line anyway because of unicode\n",
    "    out_frame.columns = header\n",
    "    \n",
    "    return(out_frame)"
   ]
  },
  {
   "cell_type": "markdown",
   "metadata": {},
   "source": [
    "## Step 2. Load and parse select .fzp file."
   ]
  },
  {
   "cell_type": "code",
   "execution_count": 4,
   "metadata": {},
   "outputs": [],
   "source": [
    "datapath = \"D:\\\\VISSIM_Sims_05_13_2_Lane\\\\Scen1\" #path to the location of the FZP file you want to read / Directory\n",
    "filename = \"Seattle_Atomic_Network_Scen1_experiment_121_001.fzp\" #FZP file you want to read\n",
    "\n",
    "SCEN = filename[27:28]\n",
    "EX = filename[40:-8]\n",
    "\n",
    "S01_02 = pandas_parse_fzp_vissim_vehicle_records(os.path.join(datapath, filename)) # .fzp parsing tool. S01_02 is the dataframe that will be used throughout."
   ]
  },
  {
   "cell_type": "code",
   "execution_count": 10,
   "metadata": {},
   "outputs": [],
   "source": [
    "# Define some of the variables to be used later\n",
    "\n",
    "# vehicles that unload/load passengers = '100'=personal vehicles, '640'=TNC or PUDO vehicles, '300'=buses\n",
    "# vehicles that unload/load goods = '650'=cargo vans / work trucks, '200'=heavy goods vehicles\n",
    "\n",
    "Sp1 = 12 # the number of available parking spaces on South side of study area; includes bus stop (2 usable spaces)\n",
    "Sp2 = 11 # the number of available parking spaces on North side of study area; includes bus stop (2 usable spaces)\n",
    "t = 8999 # the length of simulation (in seconds)\n",
    "th = 2.5 #(simulation time in hours)\n"
   ]
  },
  {
   "cell_type": "markdown",
   "metadata": {},
   "source": [
    "## Step 3. Preprocess and filter data."
   ]
  },
  {
   "cell_type": "code",
   "execution_count": 5,
   "metadata": {},
   "outputs": [],
   "source": [
    "# First separate the \"Parked\" and \"Failed to Park\" records\n",
    "# Create filters for vehicles that parked and those that failed to park\n",
    "Park_Filter_S01_02 = (S01_02['PARKSTATE'] == 'Parked')\n",
    "FailedPark_Filter_S01_02 = (S01_02['PARKSTATE'] == 'Parking request declined')\n",
    "\n",
    "# Create dataframes \n",
    "Park_S01_02 = S01_02[Park_Filter_S01_02]\n",
    "Fail_S01_02 = S01_02[FailedPark_Filter_S01_02]"
   ]
  },
  {
   "cell_type": "code",
   "execution_count": 7,
   "metadata": {},
   "outputs": [],
   "source": [
    "# Get every unique vehicle entry for parked vehicles and those that fail to park.\n",
    "Park_S01_02 = Park_S01_02.drop_duplicates(subset = [\"NO\"])\n",
    "Fail_S01_02 = Fail_S01_02.drop_duplicates(subset = [\"NO\"])\n",
    "\n",
    "#Park_S01_02\n",
    "#Fail_S01_02"
   ]
  },
  {
   "cell_type": "code",
   "execution_count": 9,
   "metadata": {},
   "outputs": [],
   "source": [
    "# Convert object variables to integer\n",
    "Park_S01_02[\"DWELLTM\"] = Park_S01_02[\"DWELLTM\"].astype(str).astype(float)\n",
    "Park_S01_02[\"VEHTYPE\"] = Park_S01_02[\"VEHTYPE\"].astype(str).astype(float)\n",
    "Fail_S01_02[\"DWELLTM\"] = Fail_S01_02[\"DWELLTM\"].astype(str).astype(float)\n",
    "Fail_S01_02[\"VEHTYPE\"] = Fail_S01_02[\"VEHTYPE\"].astype(str).astype(float)\n",
    "Park_S01_02[\"OCCUP\"] = Park_S01_02[\"OCCUP\"].astype(str).astype(float)\n",
    "Fail_S01_02[\"OCCUP\"] = Fail_S01_02[\"OCCUP\"].astype(str).astype(float)\n",
    "Park_S01_02[\"DESTPARKLOT\"] = Park_S01_02[\"DESTPARKLOT\"].astype(str).astype(float)\n",
    "\n",
    "# Convert variables related to bus analysis to integer\n",
    "S01_02[\"LANE_LINK_NO\"] = S01_02[\"LANE_LINK_NO\"].astype(str).astype(float)\n",
    "S01_02[\"LANE_INDEX\"] = S01_02[\"LANE_INDEX\"].astype(str).astype(float)     \n",
    "S01_02[\"OCCUP\"] = S01_02[\"OCCUP\"].astype(str).astype(float)                   \n",
    "S01_02[\"DWELLTM\"] = S01_02[\"DWELLTM\"].astype(str).astype(float)                \n",
    "\n",
    "#print(Park_S01_02.dtypes)"
   ]
  },
  {
   "cell_type": "markdown",
   "metadata": {},
   "source": [
    "## Step 4. Calculate curb performance metrics."
   ]
  },
  {
   "cell_type": "markdown",
   "metadata": {},
   "source": [
    "### 4.1. Add bus passengers to variables"
   ]
  },
  {
   "cell_type": "code",
   "execution_count": 11,
   "metadata": {},
   "outputs": [],
   "source": [
    "# Filter original df (S01_02) for all bus records\n",
    "Bus_Filter_S01_02 = (S01_02['VEHTYPE'] == '300')\n",
    "Bus_S01_02 = S01_02[Bus_Filter_S01_02]\n",
    "#Bus_S01_02"
   ]
  },
  {
   "cell_type": "code",
   "execution_count": 13,
   "metadata": {},
   "outputs": [],
   "source": [
    "# Filter bus df for only records tied to blocks with parking AND if buses entered parking lane (Lane 1).\n",
    "Bus_Link_Filter = (((Bus_Bus_S01_02['LANE_LINK_NO'] == 1) | (Bus_Bus_S01_02['LANE_LINK_NO'] == 2) \\\n",
    "                  & (Bus_Bus_S01_02['LANE_INDEX'] == 1))\n",
    "Bus_Lane = Bus_Bus_S01_02[Bus_Link_Filter]\n",
    "#Bus_Lane_S01_02"
   ]
  },
  {
   "cell_type": "code",
   "execution_count": 14,
   "metadata": {},
   "outputs": [],
   "source": [
    "# Drop duplicate bus records - Assumes all of these buses stop, even though I don't think they are the correct bus records (orange and purple lines)\n",
    "Bus_Lane_S01_02 = Bus_Lane_S01_02.drop_duplicates(subset = [\"NO\"])\n",
    "#Bus_Lane_S01_02.head(50)"
   ]
  },
  {
   "cell_type": "code",
   "execution_count": 15,
   "metadata": {},
   "outputs": [
    {
     "name": "stdout",
     "output_type": "stream",
     "text": [
      "15.0 12.0 151.0 102.0\n"
     ]
    }
   ],
   "source": [
    "# Assign passengers to buses entering bus stops. VISSIM does have the ability to output this info, but it was not included in the base runs.\n",
    "Bus1 = Bus_Lane_S01_02.loc[Bus_Lane_S01_02['LANE_LINK_NO']==1, 'LANE_INDEX'].sum()\n",
    "Bus2 = Bus_Lane_S01_02.loc[Bus_Lane_S01_02['LANE_LINK_NO']==2, 'LANE_INDEX'].sum()\n",
    "Bus_Pax1 = round(Bus1 * np.random.normal(10.0, 1.0))\n",
    "Bus_Pax2 = round(Bus2 * np.random.normal(10.0, 1.0))\n",
    "\n",
    "print(Bus1, Bus2, Bus_Pax1, Bus_Pax2)"
   ]
  },
  {
   "cell_type": "markdown",
   "metadata": {},
   "source": [
    "### 4.2. Add passenger and goods counts to \"Park...\" and \"Fail...\" dataframes"
   ]
  },
  {
   "cell_type": "code",
   "execution_count": 16,
   "metadata": {},
   "outputs": [],
   "source": [
    "# add passenger count and package columns\n",
    "conditionspax = [\n",
    "    (Park_S01_02['VEHTYPE'] == 100) & (Park_S01_02['DWELLTM'] < 600),\n",
    "    (Park_S01_02['VEHTYPE'] == 100) & (Park_S01_02['DWELLTM'] > 600),\n",
    "    (Park_S01_02['VEHTYPE'] == 640) & (Park_S01_02['DWELLTM'] < 600),\n",
    "    (Park_S01_02['VEHTYPE'] == 640) & (Park_S01_02['DWELLTM'] > 600),\n",
    "    (Park_S01_02['VEHTYPE'] == 300) & (Park_S01_02['DWELLTM'] < 300),\n",
    "    (Park_S01_02['VEHTYPE'] == 300) & (Park_S01_02['DWELLTM'] > 300),\n",
    "    (Park_S01_02['VEHTYPE'] == 650),\n",
    "    (Park_S01_02['VEHTYPE'] == 200)\n",
    "]\n",
    "choicespax = [1,2,1,2,10,15,0,0] # see publication for justification of pax and goods loaded/unloaded.\n",
    "Park_S01_02['pax'] = np.select(conditionspax, choicespax, default=0)\n",
    "\n",
    "conditionsgoods = [\n",
    "    (Park_S01_02['VEHTYPE'] == 650) & (Park_S01_02['DWELLTM'] < 1800),\n",
    "    (Park_S01_02['VEHTYPE'] == 650) & (Park_S01_02['DWELLTM'] > 1800),\n",
    "    (Park_S01_02['VEHTYPE'] == 200) & (Park_S01_02['DWELLTM'] < 1800),\n",
    "    (Park_S01_02['VEHTYPE'] == 200) & (Park_S01_02['DWELLTM'] > 1800)\n",
    "]\n",
    "choicesgoods = [5,10,5,10] # see publication for justification of pax and goods loaded/unloaded.\n",
    "Park_S01_02['parcels'] = np.select(conditionsgoods, choicesgoods, default=0)\n",
    "\n",
    "#Park_S01_02.head(5)"
   ]
  },
  {
   "cell_type": "code",
   "execution_count": 17,
   "metadata": {},
   "outputs": [],
   "source": [
    "# Create separate dataframes for Block face 1 and Block face 2\n",
    "# Using the 'Lane_Link_No' means you do not need to consider the destination parking lot number (those are not included in fail parking events +\n",
    "# in scenario 6, the through-lane and bus-stop parking lots are out of sequence)\n",
    "\n",
    "# Parking dataframe\n",
    "FacePark1_S01_02_filter = (Park_S01_02['LANE_LINK_NO'] == '1')\n",
    "FacePark2_S01_02_filter = (Park_S01_02['LANE_LINK_NO'] == '2')\n",
    "Park1_S01_02 = Park_S01_02[FacePark1_S01_02_filter]\n",
    "Park2_S01_02 = Park_S01_02[FacePark2_S01_02_filter]\n",
    "\n",
    "# Failed Park Dataframe\n",
    "FaceFail1_S01_02_filter = (Fail_S01_02['LANE_LINK_NO'] == '1')\n",
    "FaceFail2_S01_02_filter = (Fail_S01_02['LANE_LINK_NO'] == '2')\n",
    "Fail1_S01_02 = Fail_S01_02[FaceFail1_S01_02_filter]\n",
    "Fail2_S01_02 = Fail_S01_02[FaceFail2_S01_02_filter]"
   ]
  },
  {
   "cell_type": "code",
   "execution_count": 18,
   "metadata": {},
   "outputs": [],
   "source": [
    "# Defining the variables for curb productivity\n",
    "\n",
    "#v_ip = vehicles successfully unloading passengers\n",
    "# vehicles that unload/load passengers = '100', '640'\n",
    "v_ip1 = Park1_S01_02.loc[Park1_S01_02['VEHTYPE']==100, 'OCCUP'].count()+Park1_S01_02.loc[Park1_S01_02['VEHTYPE']==640, 'OCCUP'].count()+Bus1      ##added bus here\n",
    "v_ip2 = Park2_S01_02.loc[Park2_S01_02['VEHTYPE']==100, 'OCCUP'].count()+Park2_S01_02.loc[Park2_S01_02['VEHTYPE']==640, 'OCCUP'].count()+Bus2      ##added bus here\n",
    "v_ip1_TNC = Park1_S01_02.loc[Park1_S01_02['VEHTYPE']==640, 'OCCUP'].count()\n",
    "v_ip2_TNC = Park2_S01_02.loc[Park2_S01_02['VEHTYPE']==640, 'OCCUP'].count()\n",
    "v_ip1_Cars = Park1_S01_02.loc[Park1_S01_02['VEHTYPE']==100, 'OCCUP'].count()\n",
    "v_ip2_Cars = Park2_S01_02.loc[Park2_S01_02['VEHTYPE']==100, 'OCCUP'].count()\n",
    "\n",
    "#v_ig = vehicles successfully unloading goods\n",
    "# vehicles that unload/load goods = '650', '200'\n",
    "v_ig1 = Park1_S01_02.loc[Park1_S01_02['VEHTYPE']==650, 'OCCUP'].count()+Park1_S01_02.loc[Park1_S01_02['VEHTYPE']==200, 'OCCUP'].count()\n",
    "v_ig2 = Park2_S01_02.loc[Park2_S01_02['VEHTYPE']==650, 'OCCUP'].count()+Park2_S01_02.loc[Park2_S01_02['VEHTYPE']==200, 'OCCUP'].count()\n",
    "\n",
    "#fv_ip = failed parking attempts - passengers\n",
    "# vehicles that unload/load passengers = '100', '640'\n",
    "fv_ip1 = Fail1_S01_02.loc[Fail1_S01_02['VEHTYPE']==100, 'OCCUP'].count()+Fail1_S01_02.loc[Fail1_S01_02['VEHTYPE']==640, 'OCCUP'].count()\n",
    "fv_ip2 = Fail2_S01_02.loc[Fail2_S01_02['VEHTYPE']==100, 'OCCUP'].count()+Fail2_S01_02.loc[Fail2_S01_02['VEHTYPE']==640, 'OCCUP'].count()\n",
    "fv_ip1_TNC = Fail1_S01_02.loc[Fail1_S01_02['VEHTYPE']==640, 'OCCUP'].count()\n",
    "fv_ip2_TNC = Fail2_S01_02.loc[Fail2_S01_02['VEHTYPE']==640, 'OCCUP'].count()\n",
    "fv_ip1_Cars = Fail1_S01_02.loc[Fail1_S01_02['VEHTYPE']==100, 'OCCUP'].count()\n",
    "fv_ip2_Cars = Fail2_S01_02.loc[Fail2_S01_02['VEHTYPE']==100, 'OCCUP'].count()\n",
    "\n",
    "#fv_ig = failed parking attempts - goods\n",
    "# vehicles that unload/load goods = '650', '200'\n",
    "fv_ig1 = Fail1_S01_02.loc[Fail1_S01_02['VEHTYPE']==650, 'OCCUP'].count()+Fail1_S01_02.loc[Fail1_S01_02['VEHTYPE']==200, 'OCCUP'].count()\n",
    "fv_ig2 = Fail2_S01_02.loc[Fail2_S01_02['VEHTYPE']==650, 'OCCUP'].count()+Fail2_S01_02.loc[Fail2_S01_02['VEHTYPE']==200, 'OCCUP'].count()\n",
    "\n",
    "#pi = total pax served\n",
    "p_i1 = Park1_S01_02.loc[Park1_S01_02['VEHTYPE']==100, 'OCCUP'].sum()+Park1_S01_02.loc[Park1_S01_02['VEHTYPE']==640, 'OCCUP'].sum()+Bus_Pax1      ##added bus here\n",
    "p_i2 = Park2_S01_02.loc[Park2_S01_02['VEHTYPE']==100, 'OCCUP'].sum()+Park2_S01_02.loc[Park2_S01_02['VEHTYPE']==640, 'OCCUP'].sum()+Bus_Pax2      ##added bus here. Don't do this for scenario 6.\n",
    "p_i1_TNC = Park1_S01_02.loc[Park1_S01_02['VEHTYPE']==640, 'OCCUP'].sum()\n",
    "p_i2_TNC =Park2_S01_02.loc[Park2_S01_02['VEHTYPE']==640, 'OCCUP'].sum()\n",
    "p_i1_Cars = Park1_S01_02.loc[Park1_S01_02['VEHTYPE']==100, 'OCCUP'].sum()\n",
    "p_i2_Cars = Park2_S01_02.loc[Park2_S01_02['VEHTYPE']==100, 'OCCUP'].sum()\n",
    "\n",
    "#gi = total parcels delivered\n",
    "g_i1 = Park1_S01_02.loc[Park1_S01_02['VEHTYPE']==650, 'parcels'].sum()+Park1_S01_02.loc[Park1_S01_02['VEHTYPE']==200, 'parcels'].sum()\n",
    "g_i2 = Park2_S01_02.loc[Park2_S01_02['VEHTYPE']==650, 'parcels'].sum()+Park2_S01_02.loc[Park2_S01_02['VEHTYPE']==200, 'parcels'].sum()"
   ]
  },
  {
   "cell_type": "code",
   "execution_count": 19,
   "metadata": {},
   "outputs": [],
   "source": [
    "# This is a test table to make sure results make sense.\n",
    "# Variables = {'Variables': [\"p_i1\", \"v_ip1\", \"g_i1\", \"v_ip1\", \"fv_ip1\", \"fv_ig1\", \"p_i2\", \"v_ip2\", \"g_i1\", \"v_ig2\", \"fv_ip2\", \"fv_ig2\"], \n",
    "             # 'Description': [\"pax loaded/unloaded\", \"veh unloading pax\", \"goods loaded/unloaded\", \"veh unloading goods\", \"failed pax parking attempts\", \"failed goods parking attempts\", \"pax loaded/unloaded\", \"veh unloading pax\", \"goods loaded/unloaded\", \"veh unloading goods\", \"failed pax parking attempts\", \"failed goods parking attempts\"],\n",
    "             # 'Values': [p_i1, v_ip1, g_i1, v_ig1, fv_ip1, fv_ig1, p_i2, v_ip2, g_i2, v_ig2, fv_ip2, fv_ig2]}\n",
    "# Variables_df = pd.DataFrame(data=Variables)\n",
    "# Variables_df"
   ]
  },
  {
   "cell_type": "markdown",
   "metadata": {},
   "source": [
    "### 4.4. Calculate Curb Productivity Indices"
   ]
  },
  {
   "cell_type": "code",
   "execution_count": 20,
   "metadata": {},
   "outputs": [
    {
     "name": "stdout",
     "output_type": "stream",
     "text": [
      "8.033333333333333 7.0181818181818185\n",
      "1.0666666666666667 1.309090909090909\n",
      "1.9333333333333333 2.0\n",
      "5.033333333333333 3.709090909090909\n",
      "0.6666666666666666 0.7272727272727273\n"
     ]
    }
   ],
   "source": [
    "# Passenger Curb Productivity Index:\n",
    "CPI_p1 = (((p_i1))/th/Sp1) # Passenger curb productivity on blockface 1\n",
    "CPI_p2 = (((p_i2))/th/Sp2) # Passenger curb productivity on blockface 2\n",
    "\n",
    "CPI_TNC_p1 = (((p_i1_TNC))/th/Sp1) # TNC / PUDO curb productivity on blockface 1\n",
    "CPI_TNC_p2 = (((p_i2_TNC))/th/Sp2) # TNC / PUDO curb productivity on blockface 2\n",
    "CPI_Cars_p1 = (((p_i1_Cars))/th/Sp1) # Personal vehicle curb productivity on blockface 1\n",
    "CPI_Cars_p2 = (((p_i2_Cars))/th/Sp2) # Personal vehicle curb productivity on blockface 2\n",
    "CPI_Bus_p1 = (((Bus_Pax1))/th/Sp1) # Bus curb productivity on blockface 1\n",
    "CPI_Bus_p2 = (((Bus_Pax2))/th/Sp2) # Bus curb productivity on blockface 2\n",
    "\n",
    "# Goods curb Productivity Index:\n",
    "CPI_g1 = (((g_i1))/th/Sp1) # Goods curb productivity on blockface 1\n",
    "CPI_g2 = (((g_i2))/th/Sp2) # Goods curb productivity on blockface 2\n",
    "\n",
    "print(CPI_p1, CPI_p2)\n",
    "print(CPI_TNC_p1, CPI_TNC_p2)\n",
    "print(CPI_Cars_p1, CPI_Cars_p2)\n",
    "print(CPI_Bus_p1, CPI_Bus_p2)\n",
    "print(CPI_g1, CPI_g2)"
   ]
  },
  {
   "cell_type": "markdown",
   "metadata": {},
   "source": [
    "### 4.5. Calculate Curb Accessibility"
   ]
  },
  {
   "cell_type": "code",
   "execution_count": 21,
   "metadata": {},
   "outputs": [
    {
     "name": "stdout",
     "output_type": "stream",
     "text": [
      "1.0 1.0\n",
      "1.0 1.0\n",
      "1.0 1.0\n",
      "0.6666666666666667 1.0\n",
      "0.9787234042553191 1.0\n"
     ]
    }
   ],
   "source": [
    "# Passenger Curb Accessibility\n",
    "CAp1 = 1-(fv_ip1 / (fv_ip1 + v_ip1)) # Passenger curb accessibility on blockface 1\n",
    "CAp2 = 1-(fv_ip2 / (fv_ip2 + v_ip2)) # Passenger curb accessibility on blockface 2\n",
    "\n",
    "CAp_TNC_p1 = 1-(fv_ip1_TNC / (fv_ip1_TNC + v_ip1_TNC)) # TNC / PUDO curb accessibility on blockface 1\n",
    "CAp_TNC_p2 = 1-(fv_ip2_TNC / (fv_ip2_TNC + v_ip2_TNC)) # TNC / PUDO curb accessibility on blockface 2\n",
    "CAp_Cars_p1 = 1-(fv_ip1_Cars / (fv_ip1_Cars + v_ip1_Cars)) # Personal vehicle curb accessibility on blockface 1\n",
    "CAp_Cars_p2 = 1-(fv_ip2_Cars / (fv_ip2_Cars + v_ip2_Cars)) # Personal vehicle curb accessibility on blockface 2\n",
    "\n",
    "\n",
    "# Goods Curb Accessibility\n",
    "CAg1 = 1-(fv_ig1 / (v_ig1 + fv_ig1)) # Goods curb accessibility on blockface 1\n",
    "CAg2 = 1-(fv_ig2 / (v_ig2 + fv_ig2)) # Goods curb accessibility on blockface 2\n",
    "\n",
    "# Total Accessibility\n",
    "CAt1 = (1-((fv_ig1 + fv_ip1) / ((v_ig1 + v_ip1 + fv_ig1 + fv_ip1)))) # Total (all vehicle) curb accessibility on blockface 1\n",
    "CAt2 = (1-((fv_ig2 + fv_ip2) / ((v_ig2 + v_ip2 + fv_ig2 + fv_ip2)))) # Total (all vehicle) curb accessibility on blockface 2\n",
    "\n",
    "print(CAp1, CAp2)\n",
    "print(CAp_TNC_p1, CAp_TNC_p2)\n",
    "print(CAp_Cars_p1, CAp_Cars_p2)\n",
    "print(CAg1, CAg2)\n",
    "print(CAt1, CAt2)"
   ]
  },
  {
   "cell_type": "markdown",
   "metadata": {},
   "source": [
    "# 5. Calculate space occupancy (for export to CSV)"
   ]
  },
  {
   "cell_type": "code",
   "execution_count": 22,
   "metadata": {},
   "outputs": [],
   "source": [
    "#Remove unused columns from original dataframe\n",
    "S01_02.drop(S01_02.columns[26:40],axis=1,inplace=True)\n",
    "#S01_02.head(50)"
   ]
  },
  {
   "cell_type": "code",
   "execution_count": 23,
   "metadata": {},
   "outputs": [],
   "source": [
    "# Get overall occupancy rate by dividing by simulations time (t)\n",
    "occ_rate = (Park_S01_02.groupby(['DESTPARKLOT']).sum()[['DWELLTM']])/t\n",
    "\n",
    "occ_rate_vehtype = (Park_S01_02.groupby(['DESTPARKLOT', 'VEHTYPE']).sum()[['DWELLTM']])/t\n",
    "\n",
    "#occ_rate_vehtype"
   ]
  },
  {
   "cell_type": "code",
   "execution_count": 24,
   "metadata": {},
   "outputs": [],
   "source": [
    "# the below calculate occupancy (% of simulation time) of each parking space \n",
    "# occupied by the major vehicle types (Personal (100), PUDO (640), and Goods vehicles (200,650))\n",
    "\n",
    "PL_10_100 = (Park_S01_02.loc[(Park_S01_02['DESTPARKLOT']==10.0) & (Park_S01_02['VEHTYPE']==100.0), 'DWELLTM'].sum())/t\n",
    "PL_10_640 = (Park_S01_02.loc[(Park_S01_02['DESTPARKLOT']==10.0) & (Park_S01_02['VEHTYPE']==640.0), 'DWELLTM'].sum())/t\n",
    "PL_10_650 = ((Park_S01_02.loc[(Park_S01_02['DESTPARKLOT']==10.0) & (Park_S01_02['VEHTYPE']==650.0), 'DWELLTM'].sum())/t) + ((Park_S01_02.loc[(Park_S01_02['DESTPARKLOT']==10.0) & (Park_S01_02['VEHTYPE']==200.0), 'DWELLTM'].sum())/t)\n",
    "\n",
    "PL_11_100 = (Park_S01_02.loc[(Park_S01_02['DESTPARKLOT']==11.0) & (Park_S01_02['VEHTYPE']==100.0), 'DWELLTM'].sum())/t\n",
    "PL_11_640 = (Park_S01_02.loc[(Park_S01_02['DESTPARKLOT']==11.0) & (Park_S01_02['VEHTYPE']==640.0), 'DWELLTM'].sum())/t\n",
    "PL_11_650 = ((Park_S01_02.loc[(Park_S01_02['DESTPARKLOT']==11.0) & (Park_S01_02['VEHTYPE']==650.0), 'DWELLTM'].sum())/t) + ((Park_S01_02.loc[(Park_S01_02['DESTPARKLOT']==11.0) & (Park_S01_02['VEHTYPE']==200.0), 'DWELLTM'].sum())/t)\n",
    "\n",
    "PL_12_100 = (Park_S01_02.loc[(Park_S01_02['DESTPARKLOT']==12.0) & (Park_S01_02['VEHTYPE']==100.0), 'DWELLTM'].sum())/t\n",
    "PL_12_640 = (Park_S01_02.loc[(Park_S01_02['DESTPARKLOT']==12.0) & (Park_S01_02['VEHTYPE']==640.0), 'DWELLTM'].sum())/t\n",
    "PL_12_650 = ((Park_S01_02.loc[(Park_S01_02['DESTPARKLOT']==12.0) & (Park_S01_02['VEHTYPE']==650.0), 'DWELLTM'].sum())/t) + ((Park_S01_02.loc[(Park_S01_02['DESTPARKLOT']==12.0) & (Park_S01_02['VEHTYPE']==200.0), 'DWELLTM'].sum())/t)\n",
    "\n",
    "PL_13_100 = (Park_S01_02.loc[(Park_S01_02['DESTPARKLOT']==13.0) & (Park_S01_02['VEHTYPE']==100.0), 'DWELLTM'].sum())/t\n",
    "PL_13_640 = (Park_S01_02.loc[(Park_S01_02['DESTPARKLOT']==13.0) & (Park_S01_02['VEHTYPE']==640.0), 'DWELLTM'].sum())/t\n",
    "PL_13_650 = ((Park_S01_02.loc[(Park_S01_02['DESTPARKLOT']==13.0) & (Park_S01_02['VEHTYPE']==650.0), 'DWELLTM'].sum())/t) + ((Park_S01_02.loc[(Park_S01_02['DESTPARKLOT']==13.0) & (Park_S01_02['VEHTYPE']==200.0), 'DWELLTM'].sum())/t)\n",
    "\n",
    "PL_14_100 = (Park_S01_02.loc[(Park_S01_02['DESTPARKLOT']==14.0) & (Park_S01_02['VEHTYPE']==100.0), 'DWELLTM'].sum())/t\n",
    "PL_14_640 = (Park_S01_02.loc[(Park_S01_02['DESTPARKLOT']==14.0) & (Park_S01_02['VEHTYPE']==640.0), 'DWELLTM'].sum())/t\n",
    "PL_14_650 = ((Park_S01_02.loc[(Park_S01_02['DESTPARKLOT']==14.0) & (Park_S01_02['VEHTYPE']==650.0), 'DWELLTM'].sum())/t) + ((Park_S01_02.loc[(Park_S01_02['DESTPARKLOT']==14.0) & (Park_S01_02['VEHTYPE']==200.0), 'DWELLTM'].sum())/t)\n",
    "\n",
    "PL_15_100 = (Park_S01_02.loc[(Park_S01_02['DESTPARKLOT']==15.0) & (Park_S01_02['VEHTYPE']==100.0), 'DWELLTM'].sum())/t\n",
    "PL_15_640 = (Park_S01_02.loc[(Park_S01_02['DESTPARKLOT']==15.0) & (Park_S01_02['VEHTYPE']==640.0), 'DWELLTM'].sum())/t\n",
    "PL_15_650 = ((Park_S01_02.loc[(Park_S01_02['DESTPARKLOT']==15.0) & (Park_S01_02['VEHTYPE']==650.0), 'DWELLTM'].sum())/t) + ((Park_S01_02.loc[(Park_S01_02['DESTPARKLOT']==15.0) & (Park_S01_02['VEHTYPE']==200.0), 'DWELLTM'].sum())/t)\n",
    "\n",
    "PL_16_100 = (Park_S01_02.loc[(Park_S01_02['DESTPARKLOT']==16.0) & (Park_S01_02['VEHTYPE']==100.0), 'DWELLTM'].sum())/t\n",
    "PL_16_640 = (Park_S01_02.loc[(Park_S01_02['DESTPARKLOT']==16.0) & (Park_S01_02['VEHTYPE']==640.0), 'DWELLTM'].sum())/t\n",
    "PL_16_650 = ((Park_S01_02.loc[(Park_S01_02['DESTPARKLOT']==16.0) & (Park_S01_02['VEHTYPE']==650.0), 'DWELLTM'].sum())/t) + ((Park_S01_02.loc[(Park_S01_02['DESTPARKLOT']==16.0) & (Park_S01_02['VEHTYPE']==200.0), 'DWELLTM'].sum())/t)\n",
    "\n",
    "PL_17_100 = (Park_S01_02.loc[(Park_S01_02['DESTPARKLOT']==17.0) & (Park_S01_02['VEHTYPE']==100.0), 'DWELLTM'].sum())/t\n",
    "PL_17_640 = (Park_S01_02.loc[(Park_S01_02['DESTPARKLOT']==17.0) & (Park_S01_02['VEHTYPE']==640.0), 'DWELLTM'].sum())/t\n",
    "PL_17_650 = ((Park_S01_02.loc[(Park_S01_02['DESTPARKLOT']==17.0) & (Park_S01_02['VEHTYPE']==650.0), 'DWELLTM'].sum())/t) + ((Park_S01_02.loc[(Park_S01_02['DESTPARKLOT']==17.0) & (Park_S01_02['VEHTYPE']==200.0), 'DWELLTM'].sum())/t)\n",
    "\n",
    "PL_18_100 = (Park_S01_02.loc[(Park_S01_02['DESTPARKLOT']==18.0) & (Park_S01_02['VEHTYPE']==100.0), 'DWELLTM'].sum())/t\n",
    "PL_18_640 = (Park_S01_02.loc[(Park_S01_02['DESTPARKLOT']==18.0) & (Park_S01_02['VEHTYPE']==640.0), 'DWELLTM'].sum())/t\n",
    "PL_18_650 = ((Park_S01_02.loc[(Park_S01_02['DESTPARKLOT']==18.0) & (Park_S01_02['VEHTYPE']==650.0), 'DWELLTM'].sum())/t) + ((Park_S01_02.loc[(Park_S01_02['DESTPARKLOT']==18.0) & (Park_S01_02['VEHTYPE']==200.0), 'DWELLTM'].sum())/t)\n",
    "\n",
    "PL_19_100 = (Park_S01_02.loc[(Park_S01_02['DESTPARKLOT']==19.0) & (Park_S01_02['VEHTYPE']==100.0), 'DWELLTM'].sum())/t\n",
    "PL_19_640 = (Park_S01_02.loc[(Park_S01_02['DESTPARKLOT']==19.0) & (Park_S01_02['VEHTYPE']==640.0), 'DWELLTM'].sum())/t\n",
    "PL_19_650 = ((Park_S01_02.loc[(Park_S01_02['DESTPARKLOT']==19.0) & (Park_S01_02['VEHTYPE']==650.0), 'DWELLTM'].sum())/t) + ((Park_S01_02.loc[(Park_S01_02['DESTPARKLOT']==19.0) & (Park_S01_02['VEHTYPE']==200.0), 'DWELLTM'].sum())/t)\n",
    "\n",
    "PL_20_100 = (Park_S01_02.loc[(Park_S01_02['DESTPARKLOT']==20.0) & (Park_S01_02['VEHTYPE']==100.0), 'DWELLTM'].sum())/t\n",
    "PL_20_640 = (Park_S01_02.loc[(Park_S01_02['DESTPARKLOT']==20.0) & (Park_S01_02['VEHTYPE']==640.0), 'DWELLTM'].sum())/t\n",
    "PL_20_650 = ((Park_S01_02.loc[(Park_S01_02['DESTPARKLOT']==20.0) & (Park_S01_02['VEHTYPE']==650.0), 'DWELLTM'].sum())/t) + ((Park_S01_02.loc[(Park_S01_02['DESTPARKLOT']==20.0) & (Park_S01_02['VEHTYPE']==200.0), 'DWELLTM'].sum())/t)\n",
    "\n",
    "PL_21_100 = (Park_S01_02.loc[(Park_S01_02['DESTPARKLOT']==21.0) & (Park_S01_02['VEHTYPE']==100.0), 'DWELLTM'].sum())/t\n",
    "PL_21_640 = (Park_S01_02.loc[(Park_S01_02['DESTPARKLOT']==21.0) & (Park_S01_02['VEHTYPE']==640.0), 'DWELLTM'].sum())/t\n",
    "PL_21_650 = ((Park_S01_02.loc[(Park_S01_02['DESTPARKLOT']==21.0) & (Park_S01_02['VEHTYPE']==650.0), 'DWELLTM'].sum())/t) + ((Park_S01_02.loc[(Park_S01_02['DESTPARKLOT']==21.0) & (Park_S01_02['VEHTYPE']==200.0), 'DWELLTM'].sum())/t)\n",
    "\n",
    "PL_22_100 = (Park_S01_02.loc[(Park_S01_02['DESTPARKLOT']==22.0) & (Park_S01_02['VEHTYPE']==100.0), 'DWELLTM'].sum())/t\n",
    "PL_22_640 = (Park_S01_02.loc[(Park_S01_02['DESTPARKLOT']==22.0) & (Park_S01_02['VEHTYPE']==640.0), 'DWELLTM'].sum())/t\n",
    "PL_22_650 = ((Park_S01_02.loc[(Park_S01_02['DESTPARKLOT']==22.0) & (Park_S01_02['VEHTYPE']==650.0), 'DWELLTM'].sum())/t) + ((Park_S01_02.loc[(Park_S01_02['DESTPARKLOT']==22.0) & (Park_S01_02['VEHTYPE']==200.0), 'DWELLTM'].sum())/t)\n",
    "\n",
    "PL_23_100 = (Park_S01_02.loc[(Park_S01_02['DESTPARKLOT']==23.0) & (Park_S01_02['VEHTYPE']==100.0), 'DWELLTM'].sum())/t\n",
    "PL_23_640 = (Park_S01_02.loc[(Park_S01_02['DESTPARKLOT']==23.0) & (Park_S01_02['VEHTYPE']==640.0), 'DWELLTM'].sum())/t\n",
    "PL_23_650 = ((Park_S01_02.loc[(Park_S01_02['DESTPARKLOT']==23.0) & (Park_S01_02['VEHTYPE']==650.0), 'DWELLTM'].sum())/t) + ((Park_S01_02.loc[(Park_S01_02['DESTPARKLOT']==23.0) & (Park_S01_02['VEHTYPE']==200.0), 'DWELLTM'].sum())/t)\n",
    "\n",
    "PL_24_100 = (Park_S01_02.loc[(Park_S01_02['DESTPARKLOT']==24.0) & (Park_S01_02['VEHTYPE']==100.0), 'DWELLTM'].sum())/t\n",
    "PL_24_640 = (Park_S01_02.loc[(Park_S01_02['DESTPARKLOT']==24.0) & (Park_S01_02['VEHTYPE']==640.0), 'DWELLTM'].sum())/t\n",
    "PL_24_650 = ((Park_S01_02.loc[(Park_S01_02['DESTPARKLOT']==24.0) & (Park_S01_02['VEHTYPE']==650.0), 'DWELLTM'].sum())/t) + ((Park_S01_02.loc[(Park_S01_02['DESTPARKLOT']==24.0) & (Park_S01_02['VEHTYPE']==200.0), 'DWELLTM'].sum())/t)\n",
    "\n",
    "PL_25_100 = (Park_S01_02.loc[(Park_S01_02['DESTPARKLOT']==25.0) & (Park_S01_02['VEHTYPE']==100.0), 'DWELLTM'].sum())/t\n",
    "PL_25_640 = (Park_S01_02.loc[(Park_S01_02['DESTPARKLOT']==25.0) & (Park_S01_02['VEHTYPE']==640.0), 'DWELLTM'].sum())/t\n",
    "PL_25_650 = ((Park_S01_02.loc[(Park_S01_02['DESTPARKLOT']==25.0) & (Park_S01_02['VEHTYPE']==650.0), 'DWELLTM'].sum())/t) + ((Park_S01_02.loc[(Park_S01_02['DESTPARKLOT']==25.0) & (Park_S01_02['VEHTYPE']==200.0), 'DWELLTM'].sum())/t)\n",
    "\n",
    "PL_26_100 = (Park_S01_02.loc[(Park_S01_02['DESTPARKLOT']==26.0) & (Park_S01_02['VEHTYPE']==100.0), 'DWELLTM'].sum())/t\n",
    "PL_26_640 = (Park_S01_02.loc[(Park_S01_02['DESTPARKLOT']==26.0) & (Park_S01_02['VEHTYPE']==640.0), 'DWELLTM'].sum())/t\n",
    "PL_26_650 = ((Park_S01_02.loc[(Park_S01_02['DESTPARKLOT']==26.0) & (Park_S01_02['VEHTYPE']==650.0), 'DWELLTM'].sum())/t) + ((Park_S01_02.loc[(Park_S01_02['DESTPARKLOT']==26.0) & (Park_S01_02['VEHTYPE']==200.0), 'DWELLTM'].sum())/t)\n",
    "\n",
    "PL_27_100 = (Park_S01_02.loc[(Park_S01_02['DESTPARKLOT']==27.0) & (Park_S01_02['VEHTYPE']==100.0), 'DWELLTM'].sum())/t\n",
    "PL_27_640 = (Park_S01_02.loc[(Park_S01_02['DESTPARKLOT']==27.0) & (Park_S01_02['VEHTYPE']==640.0), 'DWELLTM'].sum())/t\n",
    "PL_27_650 = ((Park_S01_02.loc[(Park_S01_02['DESTPARKLOT']==27.0) & (Park_S01_02['VEHTYPE']==650.0), 'DWELLTM'].sum())/t) + ((Park_S01_02.loc[(Park_S01_02['DESTPARKLOT']==27.0) & (Park_S01_02['VEHTYPE']==200.0), 'DWELLTM'].sum())/t)\n",
    "\n",
    "PL_28_100 = (Park_S01_02.loc[(Park_S01_02['DESTPARKLOT']==28.0) & (Park_S01_02['VEHTYPE']==100.0), 'DWELLTM'].sum())/t\n",
    "PL_28_640 = (Park_S01_02.loc[(Park_S01_02['DESTPARKLOT']==28.0) & (Park_S01_02['VEHTYPE']==640.0), 'DWELLTM'].sum())/t\n",
    "PL_28_650 = ((Park_S01_02.loc[(Park_S01_02['DESTPARKLOT']==28.0) & (Park_S01_02['VEHTYPE']==650.0), 'DWELLTM'].sum())/t) + ((Park_S01_02.loc[(Park_S01_02['DESTPARKLOT']==28.0) & (Park_S01_02['VEHTYPE']==200.0), 'DWELLTM'].sum())/t)\n",
    "\n",
    "# For Scenario 6 specifically (These spaces replace the busstop on blockface 2)\n",
    "PL_30_100 = (Park_S01_02.loc[(Park_S01_02['DESTPARKLOT']==30.0) & (Park_S01_02['VEHTYPE']==100.0), 'DWELLTM'].sum())/t\n",
    "PL_30_640 = (Park_S01_02.loc[(Park_S01_02['DESTPARKLOT']==30.0) & (Park_S01_02['VEHTYPE']==640.0), 'DWELLTM'].sum())/t\n",
    "PL_30_650 = ((Park_S01_02.loc[(Park_S01_02['DESTPARKLOT']==30.0) & (Park_S01_02['VEHTYPE']==650.0), 'DWELLTM'].sum())/t) + ((Park_S01_02.loc[(Park_S01_02['DESTPARKLOT']==30.0) & (Park_S01_02['VEHTYPE']==200.0), 'DWELLTM'].sum())/t)\n",
    "\n",
    "PL_31_100 = (Park_S01_02.loc[(Park_S01_02['DESTPARKLOT']==31.0) & (Park_S01_02['VEHTYPE']==100.0), 'DWELLTM'].sum())/t\n",
    "PL_31_640 = (Park_S01_02.loc[(Park_S01_02['DESTPARKLOT']==31.0) & (Park_S01_02['VEHTYPE']==640.0), 'DWELLTM'].sum())/t\n",
    "PL_31_650 = ((Park_S01_02.loc[(Park_S01_02['DESTPARKLOT']==31.0) & (Park_S01_02['VEHTYPE']==650.0), 'DWELLTM'].sum())/t) + ((Park_S01_02.loc[(Park_S01_02['DESTPARKLOT']==31.0) & (Park_S01_02['VEHTYPE']==200.0), 'DWELLTM'].sum())/t)\n"
   ]
  },
  {
   "cell_type": "code",
   "execution_count": 25,
   "metadata": {},
   "outputs": [],
   "source": [
    "#Average dwell time by VEHTYPE (for export to CSV)\n",
    "Mean_DT_100 = Park_S01_02.loc[(Park_S01_02['VEHTYPE']==100.0), 'DWELLTM'].mean()\n",
    "Mean_DT_640 = Park_S01_02.loc[(Park_S01_02['VEHTYPE']==640.0), 'DWELLTM'].mean()\n",
    "Mean_DT_650 = Park_S01_02.loc[(Park_S01_02['VEHTYPE']==650.0), 'DWELLTM'].mean()\n",
    "\n",
    "#print(Mean_DT_100,Mean_DT_640,Mean_DT_650)"
   ]
  },
  {
   "cell_type": "markdown",
   "metadata": {},
   "source": [
    "## 6. Export processed data to .csv."
   ]
  },
  {
   "cell_type": "code",
   "execution_count": 26,
   "metadata": {},
   "outputs": [],
   "source": [
    "# Pre-requisite - Import the DictWriter class from csv  module\n",
    "from csv import DictWriter\n",
    "  \n",
    "# The list of column names as mentioned in the CSV file\n",
    "headersCSV = ['EXP', 'FILE', 'SCEN', 'CPI_P1', 'CPI_G1', 'CAp1', 'CAg1', 'CAt1', 'CPI_P2', 'CPI_G2', 'CAp2', 'CAg2', 'CAt2', 'Pax1', 'PaxVeh1', 'Goods1', 'GoodsVeh1', 'fv_ip1','fv_ig1', 'Pax2', 'PaxVeh2', 'Goods2', 'GoodsVeh2', 'fv_ip2', 'fv_ig2',\n",
    "             'Mean_DT_100', 'Mean_DT_640', 'Mean_DT_650',\n",
    "              'PL_10_100', 'PL_10_640', 'PL_10_650', 'PL_11_100', 'PL_11_640', 'PL_11_650', 'PL_12_100', 'PL_12_640', 'PL_12_650',\n",
    "              'PL_13_100', 'PL_13_640', 'PL_13_650', 'PL_14_100', 'PL_14_640', 'PL_14_650', 'PL_15_100', 'PL_15_640', 'PL_15_650', \n",
    "              'PL_16_100', 'PL_16_640', 'PL_16_650', 'PL_17_100', 'PL_17_640', 'PL_17_650', 'PL_18_100', 'PL_18_640', 'PL_18_650', \n",
    "              'PL_19_100', 'PL_19_640', 'PL_19_650', 'PL_20_100', 'PL_20_640', 'PL_20_650', 'PL_21_100', 'PL_21_640', 'PL_21_650', \n",
    "              'PL_22_100', 'PL_22_640', 'PL_22_650', 'PL_23_100', 'PL_23_640', 'PL_23_650', 'PL_24_100', 'PL_24_640', 'PL_24_650', \n",
    "              'PL_25_100', 'PL_25_640', 'PL_25_650', 'PL_26_100', 'PL_26_640', 'PL_26_650', 'PL_27_100', 'PL_27_640', 'PL_27_650', \n",
    "              'PL_28_100', 'PL_28_640', 'PL_28_650', 'PL_30_100', 'PL_30_640', 'PL_30_650', 'PL_31_100', 'PL_31_640', 'PL_31_650',\n",
    "              'Bus1', 'Bus_Pax1', 'Bus2', 'Bus_Pax2', 'v_ip1_TNC', 'v_ip2_TNC', 'v_ip1_Cars', 'v_ip2_Cars',\n",
    "              'fv_ip1_TNC', 'fv_ip2_TNC', 'fv_ip1_Cars', 'fv_ip2_Cars', 'p_i1_TNC', 'p_i2_TNC', 'p_i1_Cars', 'p_i2_Cars',\n",
    "              'CPI_TNC_p1', 'CPI_TNC_p2', 'CPI_Cars_p1', 'CPI_Cars_p2', 'CPI_Bus_p1', 'CPI_Bus_p2',\n",
    "              'CAp_TNC_p1', 'CAp_TNC_p2', 'CAp_Cars_p1', 'CAp_Cars_p2'\n",
    "             ]      \n",
    "# The data assigned to the dictionary\n",
    "# update every time: 'EXP', 'FILE', 'SCEN'\n",
    "dict={'EXP':EX, 'FILE':filename, 'SCEN':SCEN, 'CPI_P1': CPI_p1, 'CPI_G1': CPI_g1, 'CAp1': CAp1, 'CAg1': CAg1, 'CAt1': CAt1, 'CPI_P2': CPI_p2, 'CPI_G2': CPI_g2, 'CAp2': CAp2, 'CAg2': CAg2, 'CAt2': CAt2, 'Pax1': p_i1, 'PaxVeh1': v_ip1, 'Goods1': g_i1, 'GoodsVeh1': v_ig1, 'fv_ip1':fv_ip1,'fv_ig1':fv_ig1, 'Pax2': p_i2, 'PaxVeh2': v_ip2, 'Goods2': g_i2, 'GoodsVeh2': v_ig2, 'fv_ip2':fv_ip2, 'fv_ig2':fv_ig2,\n",
    "     'Mean_DT_100':Mean_DT_100, 'Mean_DT_640':Mean_DT_640, 'Mean_DT_650':Mean_DT_650,\n",
    "      'PL_10_100':PL_10_100, 'PL_10_640':PL_10_640, 'PL_10_650':PL_10_650, 'PL_11_100':PL_11_100, 'PL_11_640':PL_11_640, 'PL_11_650':PL_11_650, \n",
    "      'PL_12_100':PL_12_100, 'PL_12_640':PL_12_640, 'PL_12_650':PL_12_650, 'PL_13_100':PL_13_100, 'PL_13_640':PL_13_640, 'PL_13_650':PL_13_650, \n",
    "      'PL_14_100':PL_14_100, 'PL_14_640':PL_14_640, 'PL_14_650':PL_14_650, 'PL_15_100':PL_15_100, 'PL_15_640':PL_15_640, 'PL_15_650':PL_15_650, \n",
    "      'PL_16_100':PL_16_100, 'PL_16_640':PL_16_640, 'PL_16_650':PL_16_650, 'PL_17_100':PL_17_100, 'PL_17_640':PL_17_640, 'PL_17_650':PL_17_650, \n",
    "      'PL_18_100':PL_18_100, 'PL_18_640':PL_18_640, 'PL_18_650':PL_18_650, 'PL_19_100':PL_19_100, 'PL_19_640':PL_19_640, 'PL_19_650':PL_19_650,\n",
    "      'PL_20_100':PL_20_100, 'PL_20_640':PL_20_640, 'PL_20_650':PL_20_650, 'PL_21_100':PL_21_100, 'PL_21_640':PL_21_640, 'PL_21_650':PL_21_650, \n",
    "      'PL_22_100':PL_22_100, 'PL_22_640':PL_22_640, 'PL_22_650':PL_22_650, 'PL_23_100':PL_23_100, 'PL_23_640':PL_23_640, 'PL_23_650':PL_23_650, \n",
    "      'PL_24_100':PL_24_100, 'PL_24_640':PL_24_640, 'PL_24_650':PL_24_650, 'PL_25_100':PL_25_100, 'PL_25_640':PL_25_640, 'PL_25_650':PL_25_650,\n",
    "      'PL_26_100':PL_26_100, 'PL_26_640':PL_26_640, 'PL_26_650':PL_26_650, 'PL_27_100':PL_27_100, 'PL_27_640':PL_27_640, 'PL_27_650':PL_27_650, \n",
    "      'PL_28_100':PL_28_100, 'PL_28_640':PL_28_640, 'PL_28_650':PL_28_650, 'PL_30_100':PL_30_100, 'PL_30_640':PL_30_640, 'PL_30_650':PL_30_650,      \n",
    "      'PL_31_100':PL_31_100, 'PL_31_640':PL_31_640, 'PL_31_650':PL_31_650, 'Bus1':Bus1, 'Bus_Pax1':Bus_Pax1, 'Bus2':Bus2, 'Bus_Pax2':Bus_Pax2,\n",
    "      'v_ip1_TNC':v_ip1_TNC, 'v_ip2_TNC':v_ip2_TNC, 'v_ip1_Cars':v_ip1_Cars, 'v_ip2_Cars':v_ip2_Cars,\n",
    "      'fv_ip1_TNC':fv_ip1_TNC, 'fv_ip2_TNC':fv_ip2_TNC, 'fv_ip1_Cars':fv_ip1_Cars, 'fv_ip2_Cars':fv_ip2_Cars,\n",
    "      'p_i1_TNC':p_i1_TNC, 'p_i2_TNC':p_i2_TNC, 'p_i1_Cars':p_i1_Cars, 'p_i2_Cars':p_i2_Cars,\n",
    "      'CPI_TNC_p1':CPI_TNC_p1, 'CPI_TNC_p2':CPI_TNC_p2, 'CPI_Cars_p1':CPI_Cars_p1, 'CPI_Cars_p2':CPI_Cars_p2, 'CPI_Bus_p1':CPI_Bus_p1, 'CPI_Bus_p2':CPI_Bus_p2,\n",
    "      'CAp_TNC_p1':CAp_TNC_p1, 'CAp_TNC_p2':CAp_TNC_p2, 'CAp_Cars_p1':CAp_Cars_p1, 'CAp_Cars_p2':CAp_Cars_p2      \n",
    "     }\n",
    "  \n",
    "# Pre-requisite - The CSV file should be manually closed before running this code.\n",
    "\n",
    "# First, open the old CSV file in append mode, hence mentioned as 'a'\n",
    "# Then, for the CSV file, create a file object\n",
    "with open('C://Users//type//your//directory//here//TypeFilenameHere.csv', 'a', newline='') as f_object:\n",
    "    # Pass the CSV  file object to the Dictwriter() function\n",
    "    # Result - a DictWriter object\n",
    "    dictwriter_object = DictWriter(f_object, fieldnames=headersCSV)\n",
    "    # Pass the data in the dictionary as an argument into the writerow() function\n",
    "    dictwriter_object.writerow(dict)\n",
    "    # Close the file object\n",
    "    f_object.close()\n",
    "    "
   ]
  },
  {
   "cell_type": "code",
   "execution_count": 27,
   "metadata": {},
   "outputs": [
    {
     "name": "stdout",
     "output_type": "stream",
     "text": [
      "done\n"
     ]
    }
   ],
   "source": [
    "print('done')"
   ]
  }
 ],
 "metadata": {
  "kernelspec": {
   "display_name": "Python 3",
   "language": "python",
   "name": "python3"
  },
  "language_info": {
   "codemirror_mode": {
    "name": "ipython",
    "version": 3
   },
   "file_extension": ".py",
   "mimetype": "text/x-python",
   "name": "python",
   "nbconvert_exporter": "python",
   "pygments_lexer": "ipython3",
   "version": "3.7.4"
  }
 },
 "nbformat": 4,
 "nbformat_minor": 4
}
