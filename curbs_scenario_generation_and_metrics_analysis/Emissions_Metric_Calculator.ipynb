{
 "cells": [
  {
   "cell_type": "markdown",
   "metadata": {},
   "source": [
    "# Better Curbs Project: Emissions Metric Calculator\n",
    "\n",
    "### This notebook can be used to generate the Emissions Index (EI) metric for a single simulation run.\n",
    "\n",
    "#### Developed by Tom Maxner, University of Washington\n",
    "#### Last updated: 12/12/2022"
   ]
  },
  {
   "cell_type": "markdown",
   "metadata": {},
   "source": [
    "### The sequence of operations in this notebook are as follows:\n",
    "#### 1. Load script for .fzp (vehicle trajectory) file parsing tool, and modules for analyzing data;\n",
    "#### 2. Load and parse select .fzp file, import emissions factor dataframe; \n",
    "#### 3. Calculate emissions from ignition after parking;\n",
    "#### 4. Calculate emissions from idling while parking;\n",
    "#### 5. Calculate total parking emissions;\n",
    "#### 6. Calculate driving emissions based on driving status;\n",
    "#### 7. Export processed data to .csv for fruther analysis.\n",
    "\n",
    "### NOTE: User must update directory and file names in Steps 2 and 7. "
   ]
  },
  {
   "cell_type": "markdown",
   "metadata": {},
   "source": [
    "## Step 1. Load script for .fzp file parsing tool, and modules for analyzing data."
   ]
  },
  {
   "cell_type": "code",
   "execution_count": null,
   "metadata": {},
   "outputs": [],
   "source": [
    "import numpy as np\n",
    "import pandas as pd\n",
    "import os\n",
    "import matplotlib.pyplot as plt\n",
    "\n",
    "#passive library that generates nicer looking plots\n",
    "import seaborn\n",
    "seaborn.set()"
   ]
  },
  {
   "cell_type": "code",
   "execution_count": null,
   "metadata": {},
   "outputs": [],
   "source": [
    "def pandas_parse_fzp_vissim_vehicle_records(filename):\n",
    "    #this function parses a vehicle records fzp file and \n",
    "    #reads the data into a pandas dataframe\n",
    "    \n",
    "    #FZP file notes\n",
    "    #lines beginning with * are comments\n",
    "    #escape character \\ is not an escape character (VISSIM sucks)\n",
    "    #line beginning with $ is header\n",
    "    #data is ; delimited\n",
    "    #dataframe will come back with all strings as data\n",
    "\n",
    "    data = []\n",
    "    \n",
    "    with open(filename, 'r') as d:\n",
    "        for line in d:\n",
    "            if line[0] == \"*\":\n",
    "                pass\n",
    "            elif line[0:8] == \"$VEHICLE\": #column header doesn't precisely correspond to columns\n",
    "                header = line.replace(\"\\\\\",\"_\").strip().split(\";\") #VISSIM uses stupid escape characters in stupid places\n",
    "                header[0] = header[0].split(\":\")[1] #getting rid of garbage at start of column header\n",
    "            elif line[0] == \"$\":\n",
    "                pass\n",
    "            else:       \n",
    "                data.append(line.strip().split(\";\"))\n",
    "                \n",
    "    out_frame = pd.DataFrame(data)\n",
    "    out_frame = out_frame.drop(labels=0, axis=0) #ends up reading first line anyway because of garbage unicode\n",
    "    out_frame.columns = header\n",
    "    \n",
    "    return(out_frame)"
   ]
  },
  {
   "cell_type": "markdown",
   "metadata": {},
   "source": [
    "## Step 2. Load and parse select .fzp file, import emissions factor dataframe"
   ]
  },
  {
   "cell_type": "code",
   "execution_count": null,
   "metadata": {},
   "outputs": [],
   "source": [
    "#Import FZP / vehicle records file\n",
    "\n",
    "datapath = \"D:\\\\VISSIM_Sims_05_13_2_Lane\\\\Scen1\" #path to the location of the FZP file you want to read / Directory\n",
    "filename = \"Seattle_Atomic_Network_Scen1_experiment_1_001.fzp\" #FZP file you want to read\n",
    "\n",
    "SCEN = filename[27:28]\n",
    "EX = filename[40:-8] ## might have to change for single digits\n",
    "\n",
    "S01_02 = pandas_parse_fzp_vissim_vehicle_records(os.path.join(datapath, filename))"
   ]
  },
  {
   "cell_type": "code",
   "execution_count": null,
   "metadata": {},
   "outputs": [],
   "source": [
    "#Import emissions data\n",
    "Emissions_df = pd.read_csv(r'C://Users//type//your//directory//here//Emissions_Factors.csv')\n",
    "Emissions_df"
   ]
  },
  {
   "cell_type": "code",
   "execution_count": null,
   "metadata": {},
   "outputs": [],
   "source": [
    "# Change variable columns to STRING\n",
    "\n",
    "S01_02[\"ACCELERATION\"] = S01_02[\"ACCELERATION\"].astype(str).astype(float)\n",
    "S01_02[\"VEHTYPE\"] = S01_02[\"VEHTYPE\"].astype(str).astype(float)\n",
    "S01_02[\"SPEED\"] = S01_02[\"SPEED\"].astype(str).astype(float)\n",
    "S01_02[\"DWELLTM\"] = S01_02[\"DWELLTM\"].astype(str).astype(float)"
   ]
  },
  {
   "cell_type": "markdown",
   "metadata": {},
   "source": [
    "## Step 3. Calculate emissions from ignition after parking\n",
    "##### To do this: get Maximum dwell time for each unique vehicle..."
   ]
  },
  {
   "cell_type": "code",
   "execution_count": null,
   "metadata": {},
   "outputs": [],
   "source": [
    "# We will assume that any vehicle that parks for greater than 5 minutes (300 sec) turns their vehicle off."
   ]
  },
  {
   "cell_type": "code",
   "execution_count": null,
   "metadata": {},
   "outputs": [],
   "source": [
    "#Filter for dwell times >= 300 sec\n",
    "Ignition_Filter = (S01_02['DWELLTM'] >= 300)\n",
    "Ignition_df = S01_02[Ignition_Filter]"
   ]
  },
  {
   "cell_type": "code",
   "execution_count": null,
   "metadata": {},
   "outputs": [],
   "source": [
    "#Add Column to Ignition_df for emissions rate category. In this case, all cells will be labelled \"ignition\"\n",
    "Ignition_df['CATEGORY'] = 'Ignition'\n",
    "#Ignition_df"
   ]
  },
  {
   "cell_type": "code",
   "execution_count": null,
   "metadata": {},
   "outputs": [],
   "source": [
    "# Merge emissions rates onto Ignition_df on vehtype and emission rate for ignition status\n",
    "IGN_EM_df = Ignition_df.merge(Emissions_df,left_on=['VEHTYPE','CATEGORY'], right_on=['VEHTYPE','CATEGORY'], how='left')\n",
    "#IGN_EM_df"
   ]
  },
  {
   "cell_type": "code",
   "execution_count": null,
   "metadata": {},
   "outputs": [],
   "source": [
    "# Calculate total emissions from ignition\n",
    "IGN_EM = IGN_EM_df['EM_RATE'].sum()\n",
    "\n",
    "print(IGN_EM, 'grams')"
   ]
  },
  {
   "cell_type": "markdown",
   "metadata": {},
   "source": [
    "## Step 4. Calculate emissions from idling while parking"
   ]
  },
  {
   "cell_type": "code",
   "execution_count": null,
   "metadata": {},
   "outputs": [],
   "source": [
    "#Filter for dwell times <= 300 sec\n",
    "ParkIdle_Filter = (S01_02['DWELLTM'] <= 300)\n",
    "Park_S01_02 = S01_02[ParkIdle_Filter]"
   ]
  },
  {
   "cell_type": "code",
   "execution_count": null,
   "metadata": {},
   "outputs": [],
   "source": [
    "# The first vehicle record is the maximum dwell time\n",
    "Park_S01_02 = Park_S01_02.drop_duplicates(subset = [\"NO\"])"
   ]
  },
  {
   "cell_type": "code",
   "execution_count": null,
   "metadata": {},
   "outputs": [],
   "source": [
    "#Add Column to Ignition_df for emissions rate category. In this case, all cells will be labelled \"Parked_Idle\"\n",
    "Park_S01_02['CATEGORY'] = 'Parked_Idle'\n",
    "#Park_S01_02"
   ]
  },
  {
   "cell_type": "code",
   "execution_count": null,
   "metadata": {},
   "outputs": [],
   "source": [
    "# Merge emissions rates onto ParkIdle_df on vehtype and emission rate for parked idling status\n",
    "PI_EM_df = Park_S01_02.merge(Emissions_df,left_on=['VEHTYPE','CATEGORY'], right_on=['VEHTYPE','CATEGORY'], how='left')"
   ]
  },
  {
   "cell_type": "code",
   "execution_count": null,
   "metadata": {},
   "outputs": [],
   "source": [
    "PI_EM_df['PARKIDLEEM'] = PI_EM_df['DWELLTM'] * PI_EM_df['EM_RATE']\n",
    "#PI_EM_df"
   ]
  },
  {
   "cell_type": "code",
   "execution_count": null,
   "metadata": {},
   "outputs": [],
   "source": [
    "# Calculate total emissions from idling: This should be EM_RATE x DWELLTM\n",
    "PI_EM = PI_EM_df['PARKIDLEEM'].sum()\n",
    "\n",
    "print(PI_EM, 'grams')"
   ]
  },
  {
   "cell_type": "markdown",
   "metadata": {},
   "source": [
    "## Step 5. Calculate total parking emissions"
   ]
  },
  {
   "cell_type": "code",
   "execution_count": null,
   "metadata": {},
   "outputs": [],
   "source": [
    "#Total Parking Emissions\n",
    "TOT_PARK_EM = PI_EM + IGN_EM\n",
    "print(TOT_PARK_EM)"
   ]
  },
  {
   "cell_type": "code",
   "execution_count": null,
   "metadata": {},
   "outputs": [],
   "source": [
    "# Separate by Blockface\n",
    "#Filter vehicle records to show only those records traveling through study area blockfaces\n",
    "\n",
    "BF1_Filter_Idle_S01_02 = (PI_EM_df['LANE_LINK_NO'] == '1')\n",
    "BF1_Filter_Ignition_S01_02 = (IGN_EM_df['LANE_LINK_NO'] == '1')\n",
    "BF2_Filter_Idle_S01_02 = (PI_EM_df['LANE_LINK_NO'] == '2')\n",
    "BF2_Filter_Ignition_S01_02 = (IGN_EM_df['LANE_LINK_NO'] == '2')"
   ]
  },
  {
   "cell_type": "code",
   "execution_count": null,
   "metadata": {},
   "outputs": [],
   "source": [
    "#Create dataframes for each blockface's vehicle records\n",
    "\n",
    "BF1_Park = PI_EM_df[BF1_Filter_Idle_S01_02]\n",
    "BF1_Ign = IGN_EM_df[BF1_Filter_Ignition_S01_02]\n",
    "BF2_Park = PI_EM_df[BF2_Filter_Idle_S01_02]\n",
    "BF2_Ign = IGN_EM_df[BF2_Filter_Ignition_S01_02]"
   ]
  },
  {
   "cell_type": "code",
   "execution_count": null,
   "metadata": {},
   "outputs": [],
   "source": [
    "# Define variables to update CSV\n",
    "\n",
    "Park_Em_100_B1 = (BF1_Park[(BF1_Park['VEHTYPE'] == 100)]['PARKIDLEEM'].sum()) + (BF1_Ign[(BF1_Ign['VEHTYPE'] == 100)]['EM_RATE'].sum())\n",
    "Park_Em_200_B1 = (BF1_Park[(BF1_Park['VEHTYPE'] == 200)]['PARKIDLEEM'].sum()) + (BF1_Ign[(BF1_Ign['VEHTYPE'] == 200)]['EM_RATE'].sum())\n",
    "Park_Em_640_B1 = (BF1_Park[(BF1_Park['VEHTYPE'] == 640)]['PARKIDLEEM'].sum()) + (BF1_Ign[(BF1_Ign['VEHTYPE'] == 640)]['EM_RATE'].sum())\n",
    "Park_Em_650_B1 = (BF1_Park[(BF1_Park['VEHTYPE'] == 650)]['PARKIDLEEM'].sum()) + (BF1_Ign[(BF1_Ign['VEHTYPE'] == 650)]['EM_RATE'].sum())\n",
    "Park_Em_Total_B1 = (BF1_Park['PARKIDLEEM'].sum()) + (BF1_Ign['EM_RATE'].sum())\n",
    "\n",
    "Park_Em_100_B2 = (BF2_Park[(BF2_Park['VEHTYPE'] == 100)]['PARKIDLEEM'].sum()) + (BF2_Ign[(BF2_Ign['VEHTYPE'] == 100)]['EM_RATE'].sum())\n",
    "Park_Em_200_B2 = (BF2_Park[(BF2_Park['VEHTYPE'] == 200)]['PARKIDLEEM'].sum()) + (BF2_Ign[(BF2_Ign['VEHTYPE'] == 200)]['EM_RATE'].sum())\n",
    "Park_Em_640_B2 = (BF2_Park[(BF2_Park['VEHTYPE'] == 640)]['PARKIDLEEM'].sum()) + (BF2_Ign[(BF2_Ign['VEHTYPE'] == 640)]['EM_RATE'].sum())\n",
    "Park_Em_650_B2 = (BF2_Park[(BF2_Park['VEHTYPE'] == 650)]['PARKIDLEEM'].sum()) + (BF2_Ign[(BF2_Ign['VEHTYPE'] == 650)]['EM_RATE'].sum())\n",
    "Park_Em_Total_B2 = (BF2_Park['PARKIDLEEM'].sum()) + (BF2_Ign['EM_RATE'].sum())"
   ]
  },
  {
   "cell_type": "markdown",
   "metadata": {},
   "source": [
    "## Step 6. Calculate driving emissions based on driving status"
   ]
  },
  {
   "cell_type": "code",
   "execution_count": null,
   "metadata": {},
   "outputs": [],
   "source": [
    "Drive_Filter = (S01_02['PARKSTATE'] != 'Parked')\n",
    "Drive_df = S01_02[Drive_Filter]"
   ]
  },
  {
   "cell_type": "code",
   "execution_count": null,
   "metadata": {},
   "outputs": [],
   "source": [
    "# Add Emission CATEGORY column\n",
    "conditionsEmStat = [\n",
    "    (Drive_df['ACCELERATION'] < 0), #braking \n",
    "    (Drive_df['ACCELERATION'] == 0), #idling or off\n",
    "    (Drive_df['ACCELERATION'] > 0) & (Drive_df['ACCELERATION'] < 0.75) & (Drive_df['SPEED'] > 26), # 30MPH STEADY STATE DRIVING \n",
    "    (Drive_df['ACCELERATION'] > 0) & (Drive_df['ACCELERATION'] < 0.75) & (Drive_df['SPEED'] >= 20) & (Drive_df['SPEED'] <= 26), # 20MPH STEADY STATE DRIVING\n",
    "    (Drive_df['ACCELERATION'] >= 6) & (Drive_df['SPEED'] >= 0) & (Drive_df['SPEED'] < 10), #FAST ACCELERATION 0-10 mph\n",
    "    (Drive_df['ACCELERATION'] >= 6) & (Drive_df['SPEED'] >= 10) & (Drive_df['SPEED'] < 20), #FAST ACCELERATION 10-20 mph\n",
    "    (Drive_df['ACCELERATION'] >= 6) & (Drive_df['SPEED'] >= 20) & (Drive_df['SPEED'] < 30), #FAST ACCELERATION 20-30 mph\n",
    "    (Drive_df['ACCELERATION'] >= 6) & (Drive_df['SPEED'] >= 30), #FAST ACCELERATION 30+ mph\n",
    "    (Drive_df['ACCELERATION'] > 1.75) & (Drive_df['ACCELERATION'] < 6) & (Drive_df['SPEED'] >= 0) & (Drive_df['SPEED'] < 10), #MODERATE ACCELERATION 0-10 mph\n",
    "    (Drive_df['ACCELERATION'] > 1.75) & (Drive_df['ACCELERATION'] < 6) & (Drive_df['SPEED'] >= 10) & (Drive_df['SPEED'] < 20), #MODERATE ACCELERATION 10-20 mph\n",
    "    (Drive_df['ACCELERATION'] > 1.75) & (Drive_df['ACCELERATION'] < 6) & (Drive_df['SPEED'] >= 20) & (Drive_df['SPEED'] < 30), #MODERATE ACCELERATION 20-30 mph\n",
    "    (Drive_df['ACCELERATION'] > 1.75) & (Drive_df['ACCELERATION'] < 6) & (Drive_df['SPEED'] >= 30), #MODERATE ACCELERATION 30+ mph\n",
    "    (Drive_df['ACCELERATION'] >= 0.75) & (Drive_df['ACCELERATION'] <= 1.75) & (Drive_df['SPEED'] >= 0) & (Drive_df['SPEED'] < 10), #SLOW ACCELERATION 0-10 mph\n",
    "    (Drive_df['ACCELERATION'] >= 0.75) & (Drive_df['ACCELERATION'] <= 1.75) & (Drive_df['SPEED'] >= 10) & (Drive_df['SPEED'] < 20), #SLOW ACCELERATION 10-20 mph\n",
    "    (Drive_df['ACCELERATION'] >= 0.75) & (Drive_df['ACCELERATION'] <= 1.75) & (Drive_df['SPEED'] >= 20) & (Drive_df['SPEED'] < 30), #SLOW ACCELERATION 20-30 mph\n",
    "    (Drive_df['ACCELERATION'] >= 0.75) & (Drive_df['ACCELERATION'] <= 1.75) & (Drive_df['SPEED'] >= 30), #SLOW ACCELERATION 30+ mph\n",
    "    (Drive_df['ACCELERATION'] >= 0.01) & (Drive_df['ACCELERATION'] < 0.75) & (Drive_df['SPEED'] >= 0) & (Drive_df['SPEED'] < 10), #SLOW ACCELERATION 0-10 mph\n",
    "    (Drive_df['ACCELERATION'] >= 0.01) & (Drive_df['ACCELERATION'] < 0.75) & (Drive_df['SPEED'] >= 10) & (Drive_df['SPEED'] < 20) #SLOW ACCELERATION 10-20 mph\n",
    "]\n",
    "choicesEmStat = ['Braking', 'Stopped_Idle', 'Steady_state_30mph', 'Steady_state_20mph', 'Fast_Acceleration_0_10', \n",
    "                 'Fast_Acceleration_10_20', 'Fast_Acceleration_20_30', 'Fast_Acceleration_30_plus',\n",
    "                 'Mod_Acceleration_0_10', 'Mod_Acceleration_10_20', 'Mod_Acceleration_20_30', 'Mod_Acceleration_30_plus', \n",
    "                 'Slow_Acceleration_0_10', 'Slow_Acceleration_10_20', 'Slow_Acceleration_20_30', 'Slow_Acceleration_30_plus',\n",
    "                 'Slow_Acceleration_0_10', 'Slow_Acceleration_10_20',]\n",
    "Drive_df['CATEGORY'] = np.select(conditionsEmStat, choicesEmStat, default=0)\n",
    "\n",
    "#Drive_df"
   ]
  },
  {
   "cell_type": "code",
   "execution_count": null,
   "metadata": {},
   "outputs": [],
   "source": [
    "# Merge emissions rates onto Drive_df on vehtype and emission rate for parked idling status\n",
    "DR_EM_df = Drive_df.merge(Emissions_df,left_on=['VEHTYPE','CATEGORY'], right_on=['VEHTYPE','CATEGORY'], how='left')\n",
    "#DR_EM_df"
   ]
  },
  {
   "cell_type": "code",
   "execution_count": null,
   "metadata": {},
   "outputs": [],
   "source": [
    "DR_EM_df['DRIVEEEM'] = DR_EM_df['EM_RATE'] * 0.1 # trajectories were collected in 0.1 sec increments whereas emission rates are g/sec.\n",
    "#DR_EM_df"
   ]
  },
  {
   "cell_type": "code",
   "execution_count": null,
   "metadata": {},
   "outputs": [],
   "source": [
    "#Filter vehicle records to show only those records traveling through study area blockfaces\n",
    "BF1_Filter_S01_02 = (DR_EM_df['LANE_LINK_NO'] == '1')\n",
    "BF2_Filter_S01_02 = (DR_EM_df['LANE_LINK_NO'] == '2')"
   ]
  },
  {
   "cell_type": "code",
   "execution_count": null,
   "metadata": {},
   "outputs": [],
   "source": [
    "#Create dataframes for each blockface's vehicle records\n",
    "BF1 = DR_EM_df[BF1_Filter_S01_02]\n",
    "BF2 = DR_EM_df[BF2_Filter_S01_02]"
   ]
  },
  {
   "cell_type": "code",
   "execution_count": null,
   "metadata": {},
   "outputs": [],
   "source": [
    "# Define variables to update CSV\n",
    "\n",
    "Em_100_B1 = BF1[(BF1['VEHTYPE'] == 100)]['DRIVEEEM'].sum()\n",
    "Em_200_B1 = BF1[(BF1['VEHTYPE'] == 200)]['DRIVEEEM'].sum()\n",
    "Em_300_B1 = BF1[(BF1['VEHTYPE'] == 300)]['DRIVEEEM'].sum()\n",
    "Em_640_B1 = BF1[(BF1['VEHTYPE'] == 640)]['DRIVEEEM'].sum()\n",
    "Em_650_B1 = BF1[(BF1['VEHTYPE'] == 650)]['DRIVEEEM'].sum()\n",
    "Em_Total_B1 = BF1['DRIVEEEM'].sum()\n",
    "\n",
    "Em_100_B2 = BF2[(BF2['VEHTYPE'] == 100)]['DRIVEEEM'].sum()\n",
    "Em_200_B2 = BF2[(BF2['VEHTYPE'] == 200)]['DRIVEEEM'].sum()\n",
    "Em_300_B2 = BF2[(BF2['VEHTYPE'] == 300)]['DRIVEEEM'].sum()\n",
    "Em_640_B2 = BF2[(BF2['VEHTYPE'] == 640)]['DRIVEEEM'].sum()\n",
    "Em_650_B2 = BF2[(BF2['VEHTYPE'] == 650)]['DRIVEEEM'].sum()\n",
    "Em_Total_B2 = BF2['DRIVEEEM'].sum()\n",
    "\n",
    "TOTAL_B1 = Em_Total_B1 + Park_Em_Total_B1\n",
    "TOTAL_B2 = Em_Total_B2 + Park_Em_Total_B2"
   ]
  },
  {
   "cell_type": "markdown",
   "metadata": {},
   "source": [
    "## Step 7. Export processed data to .csv for fruther analysis"
   ]
  },
  {
   "cell_type": "code",
   "execution_count": null,
   "metadata": {},
   "outputs": [],
   "source": [
    "# Pre-requisite - Import the DictWriter class from csv  module\n",
    "from csv import DictWriter\n",
    "  \n",
    "# The list of column names as mentioned in the CSV file\n",
    "headersCSV = ['EXP', 'FILE', 'SCEN','TOTAL_B1','TOTAL_B2', \n",
    "              'Park_Em_100_B1','Park_Em_200_B1','Park_Em_640_B1','Park_Em_650_B1','Park_Em_Total_B1',\n",
    "              'Park_Em_100_B2','Park_Em_200_B2','Park_Em_640_B2','Park_Em_650_B2','Park_Em_Total_B2',\n",
    "              'Em_100_B1','Em_200_B1','Em_300_B1','Em_640_B1','Em_650_B1','Em_Total_B1',\n",
    "              'Em_100_B2','Em_200_B2','Em_300_B2','Em_640_B2','Em_650_B2','Em_Total_B2'              \n",
    "             ]      \n",
    "# The data assigned to the dictionary\n",
    "# update every time: 'EXP', 'FILE', 'SCEN'\n",
    "dict={'EXP':EX, 'FILE':filename, 'SCEN':SCEN,'TOTAL_B1':TOTAL_B1,'TOTAL_B2':TOTAL_B2,\n",
    "      'Park_Em_100_B1':Park_Em_100_B1,'Park_Em_200_B1':Park_Em_200_B1,'Park_Em_640_B1':Park_Em_640_B1,'Park_Em_650_B1':Park_Em_650_B1,'Park_Em_Total_B1':Park_Em_Total_B1,\n",
    "      'Park_Em_100_B2':Park_Em_100_B2,'Park_Em_200_B2':Park_Em_200_B2,'Park_Em_640_B2':Park_Em_640_B2,'Park_Em_650_B2':Park_Em_650_B2,'Park_Em_Total_B2':Park_Em_Total_B2,\n",
    "      'Em_100_B1':Em_100_B1,'Em_200_B1':Em_200_B1,'Em_300_B1':Em_300_B1,'Em_640_B1':Em_640_B1,'Em_650_B1':Em_650_B1,'Em_Total_B1':Em_Total_B1,\n",
    "      'Em_100_B2':Em_100_B2,'Em_200_B2':Em_200_B2,'Em_300_B2':Em_300_B2,'Em_640_B2':Em_640_B2,'Em_650_B2':Em_650_B2,'Em_Total_B2':Em_Total_B2\n",
    "     }\n",
    "  \n",
    "# Pre-requisite - The CSV file should be manually closed before running this code.\n",
    "\n",
    "# First, open the old CSV file in append mode, hence mentioned as 'a'\n",
    "# Then, for the CSV file, create a file object\n",
    "with open('C://Users//type//your//directory//here//TypeFilenameHere.csv', 'a', newline='') as f_object:\n",
    "    # Pass the CSV  file object to the Dictwriter() function\n",
    "    # Result - a DictWriter object\n",
    "    dictwriter_object = DictWriter(f_object, fieldnames=headersCSV)\n",
    "    # Pass the data in the dictionary as an argument into the writerow() function\n",
    "    dictwriter_object.writerow(dict)\n",
    "    # Close the file object\n",
    "    f_object.close()"
   ]
  },
  {
   "cell_type": "code",
   "execution_count": null,
   "metadata": {},
   "outputs": [],
   "source": [
    "print('done')"
   ]
  }
 ],
 "metadata": {
  "kernelspec": {
   "display_name": "Python 3",
   "language": "python",
   "name": "python3"
  },
  "language_info": {
   "codemirror_mode": {
    "name": "ipython",
    "version": 3
   },
   "file_extension": ".py",
   "mimetype": "text/x-python",
   "name": "python",
   "nbconvert_exporter": "python",
   "pygments_lexer": "ipython3",
   "version": "3.7.4"
  }
 },
 "nbformat": 4,
 "nbformat_minor": 4
}
